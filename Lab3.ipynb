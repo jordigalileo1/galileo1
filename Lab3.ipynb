{
 "cells": [
  {
   "cell_type": "markdown",
   "id": "d19c8d7c-52fd-4db5-b15b-8bab879f9f3e",
   "metadata": {},
   "source": [
    "# Laboratorio: Análisis de Datos con Python \n",
    "\n",
    "### Parte 1: Numpy:\n",
    "\n",
    "#Para los ejercicios siguiente genere el código que considere \n",
    "para resolver el problema que se le plantea.\n",
    "\n",
    "\n"
   ]
  },
  {
   "cell_type": "code",
   "execution_count": 4,
   "id": "641dd60e-603d-45b5-b574-4bd526f27675",
   "metadata": {
    "tags": []
   },
   "outputs": [],
   "source": [
    "import numpy as np\n",
    "import sys"
   ]
  },
  {
   "cell_type": "markdown",
   "id": "3cd3f7d4-7871-410b-bbc7-1d7b7d32be70",
   "metadata": {},
   "source": [
    "**1) ¿Cuál es el tamaño en bytes de un array de 1000 elementos de tipo booleano?** "
   ]
  },
  {
   "cell_type": "code",
   "execution_count": 5,
   "id": "ac32feac-cc01-4615-b0ec-137a1cf1ac05",
   "metadata": {
    "tags": []
   },
   "outputs": [
    {
     "name": "stdout",
     "output_type": "stream",
     "text": [
      "El tamaño es: 8056\n"
     ]
    }
   ],
   "source": [
    "array_booleano = [False] * 1000\n",
    "\n",
    "tamaño_bytes = sys.getsizeof(array_booleano)\n",
    "\n",
    "print(\"El tamaño es:\", tamaño_bytes)\n"
   ]
  },
  {
   "cell_type": "markdown",
   "id": "0a037ec8-65d9-448c-a4d8-e4c43eb786eb",
   "metadata": {},
   "source": [
    "**2) Cree un array cuyos elementos sean los enteros pares en  [1,100] y en orden decreciente. Muestre los 10 últimos  por pantalla.**"
   ]
  },
  {
   "cell_type": "code",
   "execution_count": 6,
   "id": "b487f07d-1552-4ca5-b55b-5224cfc67a5b",
   "metadata": {
    "tags": []
   },
   "outputs": [
    {
     "name": "stdout",
     "output_type": "stream",
     "text": [
      "Los ultimos elementos del array son:  [20 18 16 14 12 10  8  6  4  2]\n"
     ]
    }
   ],
   "source": [
    "paresdecrecientes = np.arange(100, 0, -2)\n",
    "\n",
    "ultimosdecimos = paresdecrecientes[-10:]\n",
    "print(\"Los ultimos elementos del array son: \", ultimosdecimos)\n",
    "\n"
   ]
  },
  {
   "cell_type": "markdown",
   "id": "71d4d8ba-dffc-4b41-84f7-bab44947d816",
   "metadata": {},
   "source": [
    "**3) Dado el array 2 4 5 6 0 3 7 4 8 8 5 2 1 5 6 1. Seleccione con una instrucción el subarray de elementos 0 3 7 4 Después, seleccione el subarray de elementos 2 5 y 8 5.**"
   ]
  },
  {
   "cell_type": "code",
   "execution_count": 27,
   "id": "d16b79ff-3216-4743-a2c0-4ce9d8f2c83e",
   "metadata": {
    "tags": []
   },
   "outputs": [
    {
     "name": "stdout",
     "output_type": "stream",
     "text": [
      "Subarray 1: [0, 3, 7, 4]\n",
      "Subarray 2: [2, 5]\n",
      "Subarray 3: [8, 5]\n"
     ]
    }
   ],
   "source": [
    "array = [2, 4, 5, 6, 0, 3, 7, 4, 8, 8, 5, 2, 1, 5, 6, 1]\n",
    "\n",
    "subarray_1 = array[4:8]\n",
    "subarray_2 = [array[0], array[10]]\n",
    "subarray_3 = [array[9], array[10]]\n",
    "\n",
    "print(\"Subarray 1:\", subarray_1)\n",
    "print(\"Subarray 2:\", subarray_2)\n",
    "print(\"Subarray 3:\", subarray_3)"
   ]
  },
  {
   "cell_type": "markdown",
   "id": "7f507742-ea46-48db-94ce-0c654f8a6995",
   "metadata": {},
   "source": [
    "**4) Dados los arrays a = [1, 4, 2, 7] y b = [1, 3, 2, 9], obtenga la media aritmética de la diferencia (a-b).** "
   ]
  },
  {
   "cell_type": "code",
   "execution_count": 28,
   "id": "4089da1c-92cf-4cb6-bf69-3f870a79acfd",
   "metadata": {
    "tags": []
   },
   "outputs": [
    {
     "name": "stdout",
     "output_type": "stream",
     "text": [
      "La media aritmética de la diferencia es: -0.25\n"
     ]
    }
   ],
   "source": [
    "a = np.array([1, 4, 2, 7])\n",
    "b = np.array([1, 3, 2, 9])\n",
    "\n",
    "diferencia = a - b\n",
    "media = np.mean(diferencia)\n",
    "\n",
    "print(\"La media aritmética de la diferencia es:\", media)\n"
   ]
  },
  {
   "cell_type": "markdown",
   "id": "c6d91989-fa0b-4cfe-beeb-3a243e2c5059",
   "metadata": {},
   "source": [
    "**5) Tengo valores de cordenadas (x, y) en las columnas del array:** \n",
    " \n",
    "**1.33 4.5**\n",
    "\n",
    "**30.0 10.7**\n",
    "\n",
    "**70.2 0.5**\n",
    "\n",
    "**Agregue a este array las coordenadas (37.1, -3.6). Muestre en pantalla las dimensiones del nuevo array.**\n"
   ]
  },
  {
   "cell_type": "code",
   "execution_count": 31,
   "id": "db80fb78-6a14-473b-8c6a-80f98f7d8b8c",
   "metadata": {
    "tags": []
   },
   "outputs": [
    {
     "name": "stdout",
     "output_type": "stream",
     "text": [
      "Dimensiones del nuevo array de coordenadas: (4, 2)\n"
     ]
    }
   ],
   "source": [
    "coordenasasx_y = np.array([[1.33, 4.5],\n",
    "                          [30.0, 10.7],\n",
    "                          [70.2, 0.5]])\n",
    "\n",
    "nuevas_coordenadas = np.array([[37.1, -3.6]])\n",
    "\n",
    "coordenadas_completas = np.vstack([coordenasasx_y, nuevas_coordenadas])\n",
    "print(\"Dimensiones del nuevo array de coordenadas:\", coordenadas_completas.shape)"
   ]
  },
  {
   "cell_type": "markdown",
   "id": "303ae2f3-9ef0-4b9b-aefa-a79242d3b6d1",
   "metadata": {},
   "source": [
    "**6) Copie el array del ejercicio anterior. Traspóngalo. Agregue ahora dos nuevos pares de coordenadas: (10.8, \n",
    "3.0) y (35.8, 12.0).**"
   ]
  },
  {
   "cell_type": "code",
   "execution_count": 33,
   "id": "1c9246d5-99cd-4a3e-88db-dbec70597336",
   "metadata": {
    "tags": []
   },
   "outputs": [
    {
     "name": "stdout",
     "output_type": "stream",
     "text": [
      "Dimensiones del nuevo array: (5, 2)\n"
     ]
    }
   ],
   "source": [
    "array_original = np.array([[1.33, 4.5],\n",
    "                            [30.0, 10.7],\n",
    "                            [70.2, 0.5]])\n",
    "\n",
    "array_traspuesto = array_original.T\n",
    "\n",
    "nuevas_coordenadas = np.array([[10.8, 3.0],\n",
    "                                [35.8, 12.0]])\n",
    "\n",
    "array_traspuesto = np.concatenate((array_traspuesto, nuevas_coordenadas.T), axis=1)\n",
    "\n",
    "nuevo_array = array_traspuesto.T\n",
    "\n",
    "print(\"Dimensiones del nuevo array:\", nuevo_array.shape)"
   ]
  },
  {
   "cell_type": "markdown",
   "id": "45d6b4bc-a233-4157-aed4-56c99c0c297b",
   "metadata": {},
   "source": [
    "### Parte 2: Exploración y Minería de Datos:"
   ]
  },
  {
   "cell_type": "markdown",
   "id": "3757654f-59d9-4584-a124-4f56340a07a9",
   "metadata": {},
   "source": [
    "Con el dataset nucleospoblacion.csv adjunto al laboratorio, \n",
    "luego responda las siguientes preguntas usando pandas y \n",
    "matplotlib. "
   ]
  },
  {
   "cell_type": "code",
   "execution_count": 35,
   "id": "d0e8c334-d199-4928-90ab-a4f4daa1e096",
   "metadata": {
    "tags": []
   },
   "outputs": [],
   "source": [
    "import pandas as pd\n",
    "import numpy as np\n",
    "import matplotlib.pyplot as plt\n",
    "import seaborn as sns"
   ]
  },
  {
   "cell_type": "code",
   "execution_count": 36,
   "id": "9bf7487d-1bae-437b-9dba-0cb536a87510",
   "metadata": {
    "tags": []
   },
   "outputs": [
    {
     "data": {
      "text/html": [
       "<div>\n",
       "<style scoped>\n",
       "    .dataframe tbody tr th:only-of-type {\n",
       "        vertical-align: middle;\n",
       "    }\n",
       "\n",
       "    .dataframe tbody tr th {\n",
       "        vertical-align: top;\n",
       "    }\n",
       "\n",
       "    .dataframe thead th {\n",
       "        text-align: right;\n",
       "    }\n",
       "</style>\n",
       "<table border=\"1\" class=\"dataframe\">\n",
       "  <thead>\n",
       "    <tr style=\"text-align: right;\">\n",
       "      <th></th>\n",
       "      <th>FID</th>\n",
       "      <th>OBJECTID</th>\n",
       "      <th>Texto</th>\n",
       "      <th>Poblacion</th>\n",
       "      <th>CodMun</th>\n",
       "      <th>Municipio</th>\n",
       "      <th>CodProvin</th>\n",
       "      <th>Provincia</th>\n",
       "      <th>X</th>\n",
       "      <th>Y</th>\n",
       "    </tr>\n",
       "  </thead>\n",
       "  <tbody>\n",
       "    <tr>\n",
       "      <th>0</th>\n",
       "      <td>0</td>\n",
       "      <td>1</td>\n",
       "      <td>Agüimes</td>\n",
       "      <td>29431.0</td>\n",
       "      <td>35002</td>\n",
       "      <td>Agüimes</td>\n",
       "      <td>35</td>\n",
       "      <td>Las Palmas</td>\n",
       "      <td>-15.446012</td>\n",
       "      <td>27.900542</td>\n",
       "    </tr>\n",
       "    <tr>\n",
       "      <th>1</th>\n",
       "      <td>1</td>\n",
       "      <td>2</td>\n",
       "      <td>Antigua</td>\n",
       "      <td>10458.0</td>\n",
       "      <td>35003</td>\n",
       "      <td>Antigua</td>\n",
       "      <td>35</td>\n",
       "      <td>Las Palmas</td>\n",
       "      <td>-14.013301</td>\n",
       "      <td>28.418966</td>\n",
       "    </tr>\n",
       "    <tr>\n",
       "      <th>2</th>\n",
       "      <td>2</td>\n",
       "      <td>3</td>\n",
       "      <td>Arrecife</td>\n",
       "      <td>58156.0</td>\n",
       "      <td>35004</td>\n",
       "      <td>Arrecife</td>\n",
       "      <td>35</td>\n",
       "      <td>Las Palmas</td>\n",
       "      <td>-13.551451</td>\n",
       "      <td>28.960649</td>\n",
       "    </tr>\n",
       "    <tr>\n",
       "      <th>3</th>\n",
       "      <td>3</td>\n",
       "      <td>4</td>\n",
       "      <td>Arucas</td>\n",
       "      <td>36745.0</td>\n",
       "      <td>35006</td>\n",
       "      <td>Arucas</td>\n",
       "      <td>35</td>\n",
       "      <td>Las Palmas</td>\n",
       "      <td>-15.521512</td>\n",
       "      <td>28.117496</td>\n",
       "    </tr>\n",
       "    <tr>\n",
       "      <th>4</th>\n",
       "      <td>4</td>\n",
       "      <td>5</td>\n",
       "      <td>Gáldar</td>\n",
       "      <td>24473.0</td>\n",
       "      <td>35009</td>\n",
       "      <td>Gáldar</td>\n",
       "      <td>35</td>\n",
       "      <td>Las Palmas</td>\n",
       "      <td>-15.654111</td>\n",
       "      <td>28.143873</td>\n",
       "    </tr>\n",
       "  </tbody>\n",
       "</table>\n",
       "</div>"
      ],
      "text/plain": [
       "   FID  OBJECTID     Texto  Poblacion  CodMun Municipio  CodProvin  \\\n",
       "0    0         1   Agüimes    29431.0   35002   Agüimes         35   \n",
       "1    1         2   Antigua    10458.0   35003   Antigua         35   \n",
       "2    2         3  Arrecife    58156.0   35004  Arrecife         35   \n",
       "3    3         4    Arucas    36745.0   35006    Arucas         35   \n",
       "4    4         5    Gáldar    24473.0   35009    Gáldar         35   \n",
       "\n",
       "    Provincia          X          Y  \n",
       "0  Las Palmas -15.446012  27.900542  \n",
       "1  Las Palmas -14.013301  28.418966  \n",
       "2  Las Palmas -13.551451  28.960649  \n",
       "3  Las Palmas -15.521512  28.117496  \n",
       "4  Las Palmas -15.654111  28.143873  "
      ]
     },
     "execution_count": 36,
     "metadata": {},
     "output_type": "execute_result"
    }
   ],
   "source": [
    "ruta_completa = \"C:/Users/jordi/Desktop/1 Trimestre 2/Ciencia de Datos Python/Lab 3/\"\n",
    "dataset = pd.read_csv(\"NucleosPoblacion.csv\")\n",
    "dataset.head()"
   ]
  },
  {
   "cell_type": "markdown",
   "id": "24604419-f6f3-4d91-83fd-22ccb59ac04f",
   "metadata": {},
   "source": [
    "**1) ¿Cuántos Municipios tienen más de 100,000 habitantes?.**"
   ]
  },
  {
   "cell_type": "code",
   "execution_count": 37,
   "id": "dfbf05fc-233d-41c7-a9ed-bfc0bcc546ce",
   "metadata": {
    "tags": []
   },
   "outputs": [
    {
     "name": "stdout",
     "output_type": "stream",
     "text": [
      "Número de municipios con más de 100,000 habitantes: 62\n"
     ]
    }
   ],
   "source": [
    "municipios_mas_100k = dataset[dataset['Poblacion'] > 100000]\n",
    "num_municipios_mas_100k = len(municipios_mas_100k)\n",
    "print(\"Número de municipios con más de 100,000 habitantes:\", num_municipios_mas_100k)"
   ]
  },
  {
   "cell_type": "markdown",
   "id": "a77b3d54-9270-4ff5-b4c5-bab799589d02",
   "metadata": {},
   "source": [
    "**2) Realice una gráfica de barras sobre la población de cada ciudad, ordénela de menor a mayo y responda:** \n",
    " \n",
    "**a. ¿Cuál es la segunda ciudad más poblada?**\n",
    "\n",
    "**b. ¿Qué posición ocupa Granada en el ranking de las ciudades más pobladas?**"
   ]
  },
  {
   "cell_type": "code",
   "execution_count": 46,
   "id": "880c824b-4e87-4198-b33b-c5577d8e9379",
   "metadata": {
    "tags": []
   },
   "outputs": [
    {
     "data": {
      "image/png": "[encoded data removed]",
      "text/plain": [
       "<Figure size 640x480 with 1 Axes>"
      ]
     },
     "metadata": {},
     "output_type": "display_data"
    },
    {
     "name": "stdout",
     "output_type": "stream",
     "text": [
      "a. La segunda ciudad más poblada es: Barcelona\n",
      "b. Granada ocupa la posición número: 273 en el ranking de las ciudades más pobladas.\n"
     ]
    }
   ],
   "source": [
    "df_top10 = dataset.sort_values(by=\"Poblacion\", ascending=False).head(8)\n",
    "\n",
    "plt.bar(df_top10[\"Municipio\"], df_top10[\"Poblacion\"], color='skyblue')\n",
    "plt.xlabel('Ciudad')\n",
    "plt.ylabel('Población')\n",
    "plt.title('Top 8 Ciudades más Pobladas')\n",
    "plt.xticks(rotation=45)\n",
    "plt.grid(axis='y')\n",
    "plt.show()\n",
    "\n",
    "print(\"a. La segunda ciudad más poblada es:\", df.iloc[-2][\"Municipio\"])\n",
    "print(\"b. Granada ocupa la posición número:\", df[df['Municipio'] == 'Granada'].index[0] + 1, \"en el ranking de las ciudades más pobladas.\")\n"
   ]
  },
  {
   "cell_type": "markdown",
   "id": "43754ba8-93d0-4602-94cc-98c07a38f4b0",
   "metadata": {},
   "source": [
    "**3¿Cuántos municipios de Navarra tienen más de 5000\n",
    "habitantes?.**"
   ]
  },
  {
   "cell_type": "code",
   "execution_count": 48,
   "id": "6e194c78-c16f-4b41-a375-01a0a412d4f8",
   "metadata": {
    "tags": []
   },
   "outputs": [
    {
     "name": "stdout",
     "output_type": "stream",
     "text": [
      "Cantidad de municipios de Navarra con más de 5000 habitantes: 11\n"
     ]
    }
   ],
   "source": [
    "municipios_navarra = dataset[dataset[\"Provincia\"] == \"Navarra\"]\n",
    "\n",
    "municipios_mas_5000 = municipios_navarra[municipios_navarra[\"Poblacion\"] > 5000]\n",
    "cantidad_municipios_mas_5000 = len(municipios_mas_5000)\n",
    "\n",
    "print(\"Cantidad de municipios de Navarra con más de 5000 habitantes:\", cantidad_municipios_mas_5000)"
   ]
  },
  {
   "cell_type": "markdown",
   "id": "ca7ef964-a098-47c0-b35c-31c3120ad33e",
   "metadata": {
    "tags": []
   },
   "source": [
    "**4. ¿Cuál es el municipio situado más al Norte? (Usar el valor de la coordenada \"Y\" que representa la latitud en grados). Proporcione también la provincia a la que pertenece y su población.**"
   ]
  },
  {
   "cell_type": "code",
   "execution_count": 57,
   "id": "c8ff9b0b-a178-4f75-aa2c-d0bf2db1ad86",
   "metadata": {
    "tags": []
   },
   "outputs": [
    {
     "name": "stdout",
     "output_type": "stream",
     "text": [
      "El municipio situado más al Norte es: Viveiro\n",
      "Provincia: Lugo\n",
      "Población: 16211.0\n"
     ]
    }
   ],
   "source": [
    "municipio_mas_norte = dataset[dataset[\"Y\"] == dataset[\"Y\"].max()]\n",
    "\n",
    "print(\"El municipio situado más al Norte es:\", municipio_mas_norte[\"Municipio\"].values[0])\n",
    "print(\"Provincia:\", municipio_mas_norte[\"Provincia\"].values[0])\n",
    "print(\"Población:\", municipio_mas_norte[\"Poblacion\"].values[0])"
   ]
  },
  {
   "cell_type": "markdown",
   "id": "0452150e-2f00-4f50-9be8-1b66637513d6",
   "metadata": {},
   "source": [
    "**5. Obtenga la media, mediana, desviación estándar, valor máximo y valor mínimo de la población de los municipios de la provincia de Granada.**"
   ]
  },
  {
   "cell_type": "code",
   "execution_count": 58,
   "id": "8ac4b685-8e1a-41fa-ab3a-dd7dd76e3957",
   "metadata": {
    "tags": []
   },
   "outputs": [
    {
     "name": "stdout",
     "output_type": "stream",
     "text": [
      "Media de la población en la provincia de Granada: 30217.85\n",
      "Mediana de la población en la provincia de Granada: 17526.0\n",
      "Desviación estándar de la población en la provincia de Granada: 50355.49171459277\n",
      "Valor máximo de la población en la provincia de Granada: 239154.0\n",
      "Valor mínimo de la población en la provincia de Granada: 10386.0\n"
     ]
    }
   ],
   "source": [
    "municipios_granada = dataset[dataset[\"Provincia\"] == \"Granada\"]\n",
    "\n",
    "media = municipios_granada[\"Poblacion\"].mean()\n",
    "mediana = municipios_granada[\"Poblacion\"].median()\n",
    "desviacion_estandar = municipios_granada[\"Poblacion\"].std()\n",
    "valor_maximo = municipios_granada[\"Poblacion\"].max()\n",
    "valor_minimo = municipios_granada[\"Poblacion\"].min()\n",
    "\n",
    "print(\"Media de la población en la provincia de Granada:\", media)\n",
    "print(\"Mediana de la población en la provincia de Granada:\", mediana)\n",
    "print(\"Desviación estándar de la población en la provincia de Granada:\", desviacion_estandar)\n",
    "print(\"Valor máximo de la población en la provincia de Granada:\", valor_maximo)\n",
    "print(\"Valor mínimo de la población en la provincia de Granada:\", valor_minimo)"
   ]
  },
  {
   "cell_type": "markdown",
   "id": "21d17476-0a31-431d-a4bc-b513c8e38e62",
   "metadata": {},
   "source": [
    "**6. Realice un histograma con la población de los\n",
    "Municipios para cada una de las provincias.**"
   ]
  },
  {
   "cell_type": "code",
   "execution_count": 72,
   "id": "b270ff82-2457-4c1e-a942-1242805ad28a",
   "metadata": {
    "tags": []
   },
   "outputs": [
    {
     "data": {
      "image/png": "[encoded data removed]",
      "text/plain": [
       "<Figure size 1200x600 with 1 Axes>"
      ]
     },
     "metadata": {},
     "output_type": "display_data"
    }
   ],
   "source": [
    "plt.figure(figsize=(12, 6))\n",
    "handles = []\n",
    "\n",
    "for provincia in dataset[\"Provincia\"].unique():\n",
    "    poblacion_provincia = dataset[dataset[\"Provincia\"] == provincia][\"Poblacion\"]\n",
    "    plt.hist(poblacion_provincia, bins=10, alpha=0.5, label=provincia)\n",
    "    handles.append(provincia)\n",
    "\n",
    "plt.xlabel('Población')\n",
    "plt.ylabel('Frecuencia')\n",
    "plt.title('Histograma de Población por Provincia')\n",
    "plt.legend(handles[:15])\n",
    "plt.show()"
   ]
  },
  {
   "cell_type": "markdown",
   "id": "d29ad7ca-188f-4487-a036-04343dd03b1d",
   "metadata": {},
   "source": [
    "**7. Seleccione al azar cincuenta municipios diferentes de entre los diponibles en el archivo. Asegúrese de que no se repitan. ¿Luego calcule el promedio de la población y la desviación estándar de esto 50 municipios?**"
   ]
  },
  {
   "cell_type": "code",
   "execution_count": 79,
   "id": "89f50eb6-1415-4ed0-ab89-459e8eb0b837",
   "metadata": {
    "tags": []
   },
   "outputs": [
    {
     "name": "stdout",
     "output_type": "stream",
     "text": [
      "Promedio de la población de los 50 municipios seleccionados al azar: 47231.26\n",
      "Desviación estándar de la población de los 50 municipios seleccionados al azar: 79416.57509274517\n"
     ]
    }
   ],
   "source": [
    "municipios_aleatorios = dataset.sample(n=50, replace=False, random_state=300)\n",
    "\n",
    "promedio_poblacion = municipios_aleatorios[\"Poblacion\"].mean()\n",
    "desviacion_estandar_poblacion = municipios_aleatorios[\"Poblacion\"].std()\n",
    "\n",
    "print(\"Promedio de la población de los 50 municipios seleccionados al azar:\", promedio_poblacion)\n",
    "print(\"Desviación estándar de la población de los 50 municipios seleccionados al azar:\", desviacion_estandar_poblacion)"
   ]
  },
  {
   "cell_type": "markdown",
   "id": "59c958bd-fe30-43b4-b761-421d82450c35",
   "metadata": {},
   "source": [
    "**8) Determine los nombres de los Municipios más cercano y más lejano a Madrid. Para ello debe calcular la distancia en todos ellos y Madrid. No considere a Madrid en el análisis ya que la distancia sería cero.**"
   ]
  },
  {
   "cell_type": "code",
   "execution_count": 102,
   "id": "890e0522-4a02-4591-b4a7-8f94be3046b8",
   "metadata": {
    "tags": []
   },
   "outputs": [],
   "source": [
    "madrid_data = dataset[dataset[\"Municipio\"] == \"Madrid\"]\n",
    "madrid_coordsX = (madrid_data[\"X\"].values[0])\n",
    "madrid_coordsY = (madrid_data[\"Y\"].values[0])"
   ]
  },
  {
   "cell_type": "code",
   "execution_count": 103,
   "id": "abfd507c-2252-4d56-a5db-4a28a555c891",
   "metadata": {
    "tags": []
   },
   "outputs": [
    {
     "name": "stdout",
     "output_type": "stream",
     "text": [
      "Municipio más cercano a Madrid: Maó\n",
      "Municipio más lejano a Madrid: Carballo\n"
     ]
    }
   ],
   "source": [
    "madrid_coords = (madrid_coordsY, madrid_coordsX)\n",
    "\n",
    "df[\"Distancia_a_Madrid\"] = ((dataset[\"X\"] - madrid_coords[0])**2 + (dataset[\"Y\"] - madrid_coords[1])**2)**0.5\n",
    "\n",
    "# Encontrar el municipio más cercano y el más lejano a Madrid\n",
    "municipio_mas_cercano = dataset.loc[df[\"Distancia_a_Madrid\"].idxmin()][\"Municipio\"]\n",
    "municipio_mas_lejano = dataset.loc[df[\"Distancia_a_Madrid\"].idxmax()][\"Municipio\"]\n",
    "\n",
    "print(\"Municipio más cercano a Madrid:\", municipio_mas_cercano)\n",
    "print(\"Municipio más lejano a Madrid:\", municipio_mas_lejano)"
   ]
  }
 ],
 "metadata": {
  "kernelspec": {
   "display_name": "Python 3 (ipykernel)",
   "language": "python",
   "name": "python3"
  },
  "language_info": {
   "codemirror_mode": {
    "name": "ipython",
    "version": 3
   },
   "file_extension": ".py",
   "mimetype": "text/x-python",
   "name": "python",
   "nbconvert_exporter": "python",
   "pygments_lexer": "ipython3",
   "version": "3.11.5"
  }
 },
 "nbformat": 4,
 "nbformat_minor": 5
}
