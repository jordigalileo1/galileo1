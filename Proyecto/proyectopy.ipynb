{
 "cells": [
  {
   "cell_type": "code",
   "execution_count": 6,
   "id": "94d60024-c0e2-4948-aba5-eda7e0b0fa8d",
   "metadata": {},
   "outputs": [],
   "source": [
    "import pymysql\n",
    "import pandas as pd\n",
    "\n",
    "# Conexión a la base de datos\n",
    "connection = pymysql.connect(\n",
    "    host='db-rds-mysql.c9u4gqc8kn9n.us-east-2.rds.amazonaws.com',\n",
    "    user='admin_mysql',\n",
    "    password='********************',\n",
    "    database='sakila_db',\n",
    "    port=3306  # Puerto de MySQL (por defecto es 3306)\n",
    ")"
   ]
  },
  {
   "cell_type": "code",
   "execution_count": 7,
   "id": "09be1ed7-ce21-4d7a-a659-908fc4751ec2",
   "metadata": {
    "tags": []
   },
   "outputs": [
    {
     "name": "stderr",
     "output_type": "stream",
     "text": [
      "C:\\Users\\jordi\\AppData\\Local\\Temp\\ipykernel_10460\\4027707684.py:2: UserWarning: pandas only supports SQLAlchemy connectable (engine/connection) or database string URI or sqlite3 DBAPI2 connection. Other DBAPI2 objects are not tested. Please consider using SQLAlchemy.\n",
      "  flights = pd.read_sql(\"SELECT * FROM flights\", connection)\n",
      "C:\\Users\\jordi\\AppData\\Local\\Temp\\ipykernel_10460\\4027707684.py:5: UserWarning: pandas only supports SQLAlchemy connectable (engine/connection) or database string URI or sqlite3 DBAPI2 connection. Other DBAPI2 objects are not tested. Please consider using SQLAlchemy.\n",
      "  airlines = pd.read_sql(\"SELECT * FROM airlines\", connection)\n",
      "C:\\Users\\jordi\\AppData\\Local\\Temp\\ipykernel_10460\\4027707684.py:8: UserWarning: pandas only supports SQLAlchemy connectable (engine/connection) or database string URI or sqlite3 DBAPI2 connection. Other DBAPI2 objects are not tested. Please consider using SQLAlchemy.\n",
      "  airports = pd.read_sql(\"SELECT * FROM airports\", connection)\n",
      "C:\\Users\\jordi\\AppData\\Local\\Temp\\ipykernel_10460\\4027707684.py:11: UserWarning: pandas only supports SQLAlchemy connectable (engine/connection) or database string URI or sqlite3 DBAPI2 connection. Other DBAPI2 objects are not tested. Please consider using SQLAlchemy.\n",
      "  planes = pd.read_sql(\"SELECT * FROM planes\", connection)\n",
      "C:\\Users\\jordi\\AppData\\Local\\Temp\\ipykernel_10460\\4027707684.py:14: UserWarning: pandas only supports SQLAlchemy connectable (engine/connection) or database string URI or sqlite3 DBAPI2 connection. Other DBAPI2 objects are not tested. Please consider using SQLAlchemy.\n",
      "  weather = pd.read_sql(\"SELECT * FROM weather\", connection)\n"
     ]
    }
   ],
   "source": [
    "# Leer datos de la tabla 'flights' y cargarlos en una variable llamada 'flights'\n",
    "flights = pd.read_sql(\"SELECT * FROM flights\", connection)\n",
    "\n",
    "# Leer datos de la tabla 'airline' y cargarlos en una variable llamada 'airline'\n",
    "airlines = pd.read_sql(\"SELECT * FROM airlines\", connection)\n",
    "\n",
    "# Leer datos de la tabla 'airports' y cargarlos en una variable llamada 'airports'\n",
    "airports = pd.read_sql(\"SELECT * FROM airports\", connection)\n",
    "\n",
    "# Leer datos de la tabla 'planes' y cargarlos en una variable llamada 'planes'\n",
    "planes = pd.read_sql(\"SELECT * FROM planes\", connection)\n",
    "\n",
    "# Leer datos de la tabla 'weather' y cargarlos en una variable llamada 'weather'\n",
    "weather = pd.read_sql(\"SELECT * FROM weather\", connection)\n",
    "\n",
    "# Cerrar la conexión para que no de problema la base original\n",
    "connection.close()"
   ]
  },
  {
   "cell_type": "code",
   "execution_count": 16,
   "id": "06c9c549-203b-4769-bf7f-3c2107bffdb0",
   "metadata": {
    "tags": []
   },
   "outputs": [
    {
     "data": {
      "text/html": [
       "<div>\n",
       "<style scoped>\n",
       "    .dataframe tbody tr th:only-of-type {\n",
       "        vertical-align: middle;\n",
       "    }\n",
       "\n",
       "    .dataframe tbody tr th {\n",
       "        vertical-align: top;\n",
       "    }\n",
       "\n",
       "    .dataframe thead th {\n",
       "        text-align: right;\n",
       "    }\n",
       "</style>\n",
       "<table border=\"1\" class=\"dataframe\">\n",
       "  <thead>\n",
       "    <tr style=\"text-align: right;\">\n",
       "      <th></th>\n",
       "      <th>year</th>\n",
       "      <th>month</th>\n",
       "      <th>day</th>\n",
       "      <th>dep_time</th>\n",
       "      <th>sched_dep_time</th>\n",
       "      <th>dep_delay</th>\n",
       "      <th>arr_time</th>\n",
       "      <th>sched_arr_time</th>\n",
       "      <th>arr_delay</th>\n",
       "      <th>carrier</th>\n",
       "      <th>...</th>\n",
       "      <th>engine</th>\n",
       "      <th>temp</th>\n",
       "      <th>dewp</th>\n",
       "      <th>humid</th>\n",
       "      <th>wind_dir</th>\n",
       "      <th>wind_speed</th>\n",
       "      <th>wind_gust</th>\n",
       "      <th>precip</th>\n",
       "      <th>pressure</th>\n",
       "      <th>visib</th>\n",
       "    </tr>\n",
       "  </thead>\n",
       "  <tbody>\n",
       "    <tr>\n",
       "      <th>0</th>\n",
       "      <td>2013.0</td>\n",
       "      <td>1.0</td>\n",
       "      <td>1.0</td>\n",
       "      <td>517.0</td>\n",
       "      <td>515.0</td>\n",
       "      <td>2.0</td>\n",
       "      <td>830.0</td>\n",
       "      <td>819.0</td>\n",
       "      <td>11.0</td>\n",
       "      <td>UA</td>\n",
       "      <td>...</td>\n",
       "      <td>Turbo-fan</td>\n",
       "      <td>39.02</td>\n",
       "      <td>28.04</td>\n",
       "      <td>64.43</td>\n",
       "      <td>260.0</td>\n",
       "      <td>12.65860</td>\n",
       "      <td>0.0000</td>\n",
       "      <td>0.0</td>\n",
       "      <td>1011.9</td>\n",
       "      <td>10.0</td>\n",
       "    </tr>\n",
       "    <tr>\n",
       "      <th>1</th>\n",
       "      <td>2013.0</td>\n",
       "      <td>1.0</td>\n",
       "      <td>1.0</td>\n",
       "      <td>533.0</td>\n",
       "      <td>529.0</td>\n",
       "      <td>4.0</td>\n",
       "      <td>850.0</td>\n",
       "      <td>830.0</td>\n",
       "      <td>20.0</td>\n",
       "      <td>UA</td>\n",
       "      <td>...</td>\n",
       "      <td>Turbo-fan</td>\n",
       "      <td>39.92</td>\n",
       "      <td>24.98</td>\n",
       "      <td>54.81</td>\n",
       "      <td>250.0</td>\n",
       "      <td>14.96010</td>\n",
       "      <td>21.8648</td>\n",
       "      <td>0.0</td>\n",
       "      <td>1011.4</td>\n",
       "      <td>10.0</td>\n",
       "    </tr>\n",
       "    <tr>\n",
       "      <th>2</th>\n",
       "      <td>2013.0</td>\n",
       "      <td>1.0</td>\n",
       "      <td>1.0</td>\n",
       "      <td>542.0</td>\n",
       "      <td>540.0</td>\n",
       "      <td>2.0</td>\n",
       "      <td>923.0</td>\n",
       "      <td>850.0</td>\n",
       "      <td>33.0</td>\n",
       "      <td>AA</td>\n",
       "      <td>...</td>\n",
       "      <td>Turbo-fan</td>\n",
       "      <td>39.02</td>\n",
       "      <td>26.96</td>\n",
       "      <td>61.63</td>\n",
       "      <td>260.0</td>\n",
       "      <td>14.96010</td>\n",
       "      <td>0.0000</td>\n",
       "      <td>0.0</td>\n",
       "      <td>1012.1</td>\n",
       "      <td>10.0</td>\n",
       "    </tr>\n",
       "    <tr>\n",
       "      <th>3</th>\n",
       "      <td>2013.0</td>\n",
       "      <td>1.0</td>\n",
       "      <td>1.0</td>\n",
       "      <td>544.0</td>\n",
       "      <td>545.0</td>\n",
       "      <td>-1.0</td>\n",
       "      <td>1004.0</td>\n",
       "      <td>1022.0</td>\n",
       "      <td>-18.0</td>\n",
       "      <td>B6</td>\n",
       "      <td>...</td>\n",
       "      <td>Turbo-fan</td>\n",
       "      <td>39.02</td>\n",
       "      <td>26.96</td>\n",
       "      <td>61.63</td>\n",
       "      <td>260.0</td>\n",
       "      <td>14.96010</td>\n",
       "      <td>0.0000</td>\n",
       "      <td>0.0</td>\n",
       "      <td>1012.1</td>\n",
       "      <td>10.0</td>\n",
       "    </tr>\n",
       "    <tr>\n",
       "      <th>4</th>\n",
       "      <td>2013.0</td>\n",
       "      <td>1.0</td>\n",
       "      <td>1.0</td>\n",
       "      <td>554.0</td>\n",
       "      <td>600.0</td>\n",
       "      <td>-6.0</td>\n",
       "      <td>812.0</td>\n",
       "      <td>837.0</td>\n",
       "      <td>-25.0</td>\n",
       "      <td>DL</td>\n",
       "      <td>...</td>\n",
       "      <td>Turbo-fan</td>\n",
       "      <td>39.92</td>\n",
       "      <td>24.98</td>\n",
       "      <td>54.81</td>\n",
       "      <td>260.0</td>\n",
       "      <td>16.11090</td>\n",
       "      <td>23.0156</td>\n",
       "      <td>0.0</td>\n",
       "      <td>1011.7</td>\n",
       "      <td>10.0</td>\n",
       "    </tr>\n",
       "    <tr>\n",
       "      <th>...</th>\n",
       "      <td>...</td>\n",
       "      <td>...</td>\n",
       "      <td>...</td>\n",
       "      <td>...</td>\n",
       "      <td>...</td>\n",
       "      <td>...</td>\n",
       "      <td>...</td>\n",
       "      <td>...</td>\n",
       "      <td>...</td>\n",
       "      <td>...</td>\n",
       "      <td>...</td>\n",
       "      <td>...</td>\n",
       "      <td>...</td>\n",
       "      <td>...</td>\n",
       "      <td>...</td>\n",
       "      <td>...</td>\n",
       "      <td>...</td>\n",
       "      <td>...</td>\n",
       "      <td>...</td>\n",
       "      <td>...</td>\n",
       "      <td>...</td>\n",
       "    </tr>\n",
       "    <tr>\n",
       "      <th>336771</th>\n",
       "      <td>2013.0</td>\n",
       "      <td>9.0</td>\n",
       "      <td>30.0</td>\n",
       "      <td>0.0</td>\n",
       "      <td>1455.0</td>\n",
       "      <td>0.0</td>\n",
       "      <td>0.0</td>\n",
       "      <td>1634.0</td>\n",
       "      <td>0.0</td>\n",
       "      <td>9E</td>\n",
       "      <td>...</td>\n",
       "      <td>None</td>\n",
       "      <td>68.00</td>\n",
       "      <td>55.04</td>\n",
       "      <td>63.21</td>\n",
       "      <td>190.0</td>\n",
       "      <td>11.50780</td>\n",
       "      <td>0.0000</td>\n",
       "      <td>0.0</td>\n",
       "      <td>1016.6</td>\n",
       "      <td>10.0</td>\n",
       "    </tr>\n",
       "    <tr>\n",
       "      <th>336772</th>\n",
       "      <td>2013.0</td>\n",
       "      <td>9.0</td>\n",
       "      <td>30.0</td>\n",
       "      <td>0.0</td>\n",
       "      <td>2200.0</td>\n",
       "      <td>0.0</td>\n",
       "      <td>0.0</td>\n",
       "      <td>2312.0</td>\n",
       "      <td>0.0</td>\n",
       "      <td>9E</td>\n",
       "      <td>...</td>\n",
       "      <td>None</td>\n",
       "      <td>64.94</td>\n",
       "      <td>53.06</td>\n",
       "      <td>65.37</td>\n",
       "      <td>200.0</td>\n",
       "      <td>6.90468</td>\n",
       "      <td>0.0000</td>\n",
       "      <td>0.0</td>\n",
       "      <td>1015.8</td>\n",
       "      <td>10.0</td>\n",
       "    </tr>\n",
       "    <tr>\n",
       "      <th>336773</th>\n",
       "      <td>2013.0</td>\n",
       "      <td>9.0</td>\n",
       "      <td>30.0</td>\n",
       "      <td>0.0</td>\n",
       "      <td>1210.0</td>\n",
       "      <td>0.0</td>\n",
       "      <td>0.0</td>\n",
       "      <td>1330.0</td>\n",
       "      <td>0.0</td>\n",
       "      <td>MQ</td>\n",
       "      <td>...</td>\n",
       "      <td>None</td>\n",
       "      <td>69.08</td>\n",
       "      <td>48.02</td>\n",
       "      <td>46.99</td>\n",
       "      <td>70.0</td>\n",
       "      <td>5.75390</td>\n",
       "      <td>0.0000</td>\n",
       "      <td>0.0</td>\n",
       "      <td>1016.7</td>\n",
       "      <td>10.0</td>\n",
       "    </tr>\n",
       "    <tr>\n",
       "      <th>336774</th>\n",
       "      <td>2013.0</td>\n",
       "      <td>9.0</td>\n",
       "      <td>30.0</td>\n",
       "      <td>0.0</td>\n",
       "      <td>1159.0</td>\n",
       "      <td>0.0</td>\n",
       "      <td>0.0</td>\n",
       "      <td>1344.0</td>\n",
       "      <td>0.0</td>\n",
       "      <td>MQ</td>\n",
       "      <td>...</td>\n",
       "      <td>None</td>\n",
       "      <td>66.92</td>\n",
       "      <td>48.92</td>\n",
       "      <td>52.35</td>\n",
       "      <td>70.0</td>\n",
       "      <td>8.05546</td>\n",
       "      <td>0.0000</td>\n",
       "      <td>0.0</td>\n",
       "      <td>1017.5</td>\n",
       "      <td>10.0</td>\n",
       "    </tr>\n",
       "    <tr>\n",
       "      <th>336775</th>\n",
       "      <td>2013.0</td>\n",
       "      <td>9.0</td>\n",
       "      <td>30.0</td>\n",
       "      <td>0.0</td>\n",
       "      <td>840.0</td>\n",
       "      <td>0.0</td>\n",
       "      <td>0.0</td>\n",
       "      <td>1020.0</td>\n",
       "      <td>0.0</td>\n",
       "      <td>MQ</td>\n",
       "      <td>...</td>\n",
       "      <td>None</td>\n",
       "      <td>60.98</td>\n",
       "      <td>51.08</td>\n",
       "      <td>69.86</td>\n",
       "      <td>0.0</td>\n",
       "      <td>5.75390</td>\n",
       "      <td>0.0000</td>\n",
       "      <td>0.0</td>\n",
       "      <td>1018.6</td>\n",
       "      <td>10.0</td>\n",
       "    </tr>\n",
       "  </tbody>\n",
       "</table>\n",
       "<p>336776 rows × 43 columns</p>\n",
       "</div>"
      ],
      "text/plain": [
       "          year  month   day  dep_time  sched_dep_time  dep_delay  arr_time  \\\n",
       "0       2013.0    1.0   1.0     517.0           515.0        2.0     830.0   \n",
       "1       2013.0    1.0   1.0     533.0           529.0        4.0     850.0   \n",
       "2       2013.0    1.0   1.0     542.0           540.0        2.0     923.0   \n",
       "3       2013.0    1.0   1.0     544.0           545.0       -1.0    1004.0   \n",
       "4       2013.0    1.0   1.0     554.0           600.0       -6.0     812.0   \n",
       "...        ...    ...   ...       ...             ...        ...       ...   \n",
       "336771  2013.0    9.0  30.0       0.0          1455.0        0.0       0.0   \n",
       "336772  2013.0    9.0  30.0       0.0          2200.0        0.0       0.0   \n",
       "336773  2013.0    9.0  30.0       0.0          1210.0        0.0       0.0   \n",
       "336774  2013.0    9.0  30.0       0.0          1159.0        0.0       0.0   \n",
       "336775  2013.0    9.0  30.0       0.0           840.0        0.0       0.0   \n",
       "\n",
       "        sched_arr_time  arr_delay carrier  ...     engine   temp   dewp  \\\n",
       "0                819.0       11.0      UA  ...  Turbo-fan  39.02  28.04   \n",
       "1                830.0       20.0      UA  ...  Turbo-fan  39.92  24.98   \n",
       "2                850.0       33.0      AA  ...  Turbo-fan  39.02  26.96   \n",
       "3               1022.0      -18.0      B6  ...  Turbo-fan  39.02  26.96   \n",
       "4                837.0      -25.0      DL  ...  Turbo-fan  39.92  24.98   \n",
       "...                ...        ...     ...  ...        ...    ...    ...   \n",
       "336771          1634.0        0.0      9E  ...       None  68.00  55.04   \n",
       "336772          2312.0        0.0      9E  ...       None  64.94  53.06   \n",
       "336773          1330.0        0.0      MQ  ...       None  69.08  48.02   \n",
       "336774          1344.0        0.0      MQ  ...       None  66.92  48.92   \n",
       "336775          1020.0        0.0      MQ  ...       None  60.98  51.08   \n",
       "\n",
       "        humid  wind_dir  wind_speed  wind_gust  precip pressure visib  \n",
       "0       64.43     260.0    12.65860     0.0000     0.0   1011.9  10.0  \n",
       "1       54.81     250.0    14.96010    21.8648     0.0   1011.4  10.0  \n",
       "2       61.63     260.0    14.96010     0.0000     0.0   1012.1  10.0  \n",
       "3       61.63     260.0    14.96010     0.0000     0.0   1012.1  10.0  \n",
       "4       54.81     260.0    16.11090    23.0156     0.0   1011.7  10.0  \n",
       "...       ...       ...         ...        ...     ...      ...   ...  \n",
       "336771  63.21     190.0    11.50780     0.0000     0.0   1016.6  10.0  \n",
       "336772  65.37     200.0     6.90468     0.0000     0.0   1015.8  10.0  \n",
       "336773  46.99      70.0     5.75390     0.0000     0.0   1016.7  10.0  \n",
       "336774  52.35      70.0     8.05546     0.0000     0.0   1017.5  10.0  \n",
       "336775  69.86       0.0     5.75390     0.0000     0.0   1018.6  10.0  \n",
       "\n",
       "[336776 rows x 43 columns]"
      ]
     },
     "execution_count": 16,
     "metadata": {},
     "output_type": "execute_result"
    }
   ],
   "source": [
    "df = flights.merge(airlines, how='left', left_on='carrier', right_on='carrier') \\\n",
    "                     .merge(airports, how='left', left_on='origin', right_on='origin') \\\n",
    "                     .merge(planes.drop(columns=['year']), how='left', left_on='tailnum', right_on='tailnum') \\\n",
    "                     .merge(weather.drop(columns=['time_hour']), how='left', left_on=['origin', 'year', 'month', 'day', 'hour'], right_on=['origin', 'year', 'month', 'day', 'hour'])\n",
    "\n",
    "# Mostrar las primeras filas del resultado\n",
    "df"
   ]
  },
  {
   "cell_type": "markdown",
   "id": "d4d5f1f9-1d89-451c-af53-bb74ade140ea",
   "metadata": {
    "tags": []
   },
   "source": [
    "# PREGUNGAS DE NEGOCIO"
   ]
  },
  {
   "cell_type": "markdown",
   "id": "7d394112-de3f-453c-8e2a-e642c9b6b7ca",
   "metadata": {},
   "source": [
    "**1. ¿Cuál es la aerolínea con el mayor retraso promedio en la salida (dep_delay)?**"
   ]
  },
  {
   "cell_type": "code",
   "execution_count": 74,
   "id": "6729f06f-24d9-4c27-b14f-8e8f10c4c08d",
   "metadata": {
    "tags": []
   },
   "outputs": [
    {
     "name": "stdout",
     "output_type": "stream",
     "text": [
      "La aerolínea con el mayor retraso promedio en la salida es: F9\n"
     ]
    }
   ],
   "source": [
    "aerolinea_mayor_retraso_salida = df.groupby('carrier')['dep_delay'].mean().idxmax()\n",
    "print(\"La aerolínea con el mayor retraso promedio en la salida es:\", aerolinea_mayor_retraso_salida)\n"
   ]
  },
  {
   "cell_type": "markdown",
   "id": "844afe2b-8f96-4273-8db0-2277387fdbc7",
   "metadata": {},
   "source": [
    "**2. ¿Cuál es la distancia promedio de los vuelos por aeropuerto de origen?**"
   ]
  },
  {
   "cell_type": "code",
   "execution_count": 75,
   "id": "3586d6bb-d241-445a-b4cb-20858ef718cd",
   "metadata": {
    "tags": []
   },
   "outputs": [
    {
     "name": "stdout",
     "output_type": "stream",
     "text": [
      "Distancia promedio por aeropuerto de origen:\n",
      " origin\n",
      "EWR    1056.742790\n",
      "JFK    1266.249077\n",
      "LGA     779.835671\n",
      "Name: distance, dtype: float64\n"
     ]
    }
   ],
   "source": [
    "distancia_promedio_por_aeropuerto = df.groupby('origin')['distance'].mean()\n",
    "print(\"Distancia promedio por aeropuerto de origen:\\n\", distancia_promedio_por_aeropuerto)\n"
   ]
  },
  {
   "cell_type": "markdown",
   "id": "992506de-7976-4cab-85eb-5c32ade6981c",
   "metadata": {},
   "source": [
    "**3. ¿Cuántos vuelos se realizaron por día durante todo el año?**"
   ]
  },
  {
   "cell_type": "code",
   "execution_count": 76,
   "id": "2960a9b2-a0f6-4988-aa29-8ef4e085084c",
   "metadata": {
    "tags": []
   },
   "outputs": [
    {
     "name": "stdout",
     "output_type": "stream",
     "text": [
      "Cantidad de vuelos por día:\n",
      " year    month  day \n",
      "2013.0  1.0    1.0     842\n",
      "               2.0     943\n",
      "               3.0     914\n",
      "               4.0     915\n",
      "               5.0     720\n",
      "                      ... \n",
      "        12.0   27.0    963\n",
      "               28.0    814\n",
      "               29.0    888\n",
      "               30.0    968\n",
      "               31.0    776\n",
      "Length: 365, dtype: int64\n"
     ]
    }
   ],
   "source": [
    "vuelos_por_dia = df.groupby(['year', 'month', 'day']).size()\n",
    "print(\"Cantidad de vuelos por día:\\n\", vuelos_por_dia)\n"
   ]
  },
  {
   "cell_type": "markdown",
   "id": "fcff048f-ac8f-4524-a739-f3a477598184",
   "metadata": {},
   "source": [
    "**4. ¿Cuál es el porcentaje de vuelos con retraso en la salida por aerolínea?**"
   ]
  },
  {
   "cell_type": "code",
   "execution_count": 83,
   "id": "affa2b61-7202-47a1-abef-9f26527d73dc",
   "metadata": {
    "tags": []
   },
   "outputs": [
    {
     "name": "stdout",
     "output_type": "stream",
     "text": [
      "Porcentaje de vuelos con retraso en la salida por aerolínea:\n",
      " carrier\n",
      "9E    38.261105\n",
      "AA    31.048917\n",
      "AS    31.652661\n",
      "B6    39.251396\n",
      "DL    31.679485\n",
      "EV    42.713160\n",
      "F9    49.781022\n",
      "FL    50.736196\n",
      "HA    20.175439\n",
      "MQ    30.423912\n",
      "OO    28.125000\n",
      "UA    46.468934\n",
      "US    23.251850\n",
      "VX    43.103448\n",
      "WN    53.425662\n",
      "YV    38.768719\n",
      "dtype: float64\n"
     ]
    }
   ],
   "source": [
    "porcentaje_retraso_salida_por_aerolinea = (df[df['dep_delay'] > 0].groupby('carrier').size() / df.groupby('carrier').size()) * 100\n",
    "print(\"Porcentaje de vuelos con retraso en la salida por aerolínea:\\n\", porcentaje_retraso_salida_por_aerolinea)\n"
   ]
  },
  {
   "cell_type": "markdown",
   "id": "9d92f5d8-e5c7-4201-9a9d-01fba3c769a7",
   "metadata": {},
   "source": [
    "**5. ¿Cuál es la altitud promedio de los aeropuertos de origen y destino?**"
   ]
  },
  {
   "cell_type": "code",
   "execution_count": 78,
   "id": "d9c1ac1b-71c5-4db9-8775-e63589f6f970",
   "metadata": {
    "tags": []
   },
   "outputs": [
    {
     "name": "stdout",
     "output_type": "stream",
     "text": [
      "Altitud promedio de los aeropuertos de origen y destino:\n",
      " origin  dest\n",
      "EWR     ALB     18.0\n",
      "        ANC     18.0\n",
      "        ATL     18.0\n",
      "        AUS     18.0\n",
      "        AVL     18.0\n",
      "                ... \n",
      "LGA     SYR     22.0\n",
      "        TPA     22.0\n",
      "        TVC     22.0\n",
      "        TYS     22.0\n",
      "        XNA     22.0\n",
      "Name: alt, Length: 224, dtype: float64\n"
     ]
    }
   ],
   "source": [
    "altitud_promedio_aeropuertos = df.groupby(['origin', 'dest'])['alt'].mean()\n",
    "print(\"Altitud promedio de los aeropuertos de origen y destino:\\n\", altitud_promedio_aeropuertos)\n"
   ]
  },
  {
   "cell_type": "markdown",
   "id": "6e6f3e4e-a206-4d62-a35a-b10eb98c98fa",
   "metadata": {},
   "source": [
    "**6. ¿Cuál es la aerolínea con el mayor número de vuelos realizados?**"
   ]
  },
  {
   "cell_type": "code",
   "execution_count": 79,
   "id": "c2a0c543-1461-4c51-84f9-2a2acd3df0a6",
   "metadata": {
    "tags": []
   },
   "outputs": [
    {
     "name": "stdout",
     "output_type": "stream",
     "text": [
      "La aerolínea con el mayor número de vuelos realizados es: UA\n"
     ]
    }
   ],
   "source": [
    "aerolinea_mayor_numero_vuelos = df['carrier'].value_counts().idxmax()\n",
    "print(\"La aerolínea con el mayor número de vuelos realizados es:\", aerolinea_mayor_numero_vuelos)\n"
   ]
  },
  {
   "cell_type": "markdown",
   "id": "5a68cd09-1e27-411b-b4cc-674c9b9c4ed3",
   "metadata": {},
   "source": [
    "**7. ¿Cuál es la velocidad promedio del viento en los días lluviosos?**"
   ]
  },
  {
   "cell_type": "code",
   "execution_count": 80,
   "id": "86c57dc0-b79f-40b5-b298-b7196f4f90e0",
   "metadata": {
    "tags": []
   },
   "outputs": [
    {
     "name": "stdout",
     "output_type": "stream",
     "text": [
      "Velocidad promedio del viento en los días lluviosos: 12.294014637857579\n"
     ]
    }
   ],
   "source": [
    "velocidad_promedio_viento_dias_lluviosos = df[df['precip'] > 0]['wind_speed'].mean()\n",
    "print(\"Velocidad promedio del viento en los días lluviosos:\", velocidad_promedio_viento_dias_lluviosos)\n"
   ]
  },
  {
   "cell_type": "markdown",
   "id": "a008b4b6-90c4-4e16-a5bc-7cd2bebe0a2c",
   "metadata": {},
   "source": [
    "**8. ¿Cuál es la hora del día con la mayor cantidad de vuelos?**"
   ]
  },
  {
   "cell_type": "code",
   "execution_count": 81,
   "id": "a4f3e14f-7489-4b04-9a4c-4080b9856c0b",
   "metadata": {
    "tags": []
   },
   "outputs": [
    {
     "name": "stdout",
     "output_type": "stream",
     "text": [
      "La hora del día con la mayor cantidad de vuelos es: 8.0\n"
     ]
    }
   ],
   "source": [
    "hora_con_mayor_cantidad_vuelos = df['hour'].mode().iloc[0]\n",
    "print(\"La hora del día con la mayor cantidad de vuelos es:\", hora_con_mayor_cantidad_vuelos)\n"
   ]
  },
  {
   "cell_type": "markdown",
   "id": "e8babf3c-5a98-4ac4-bb42-e2c4fdf58277",
   "metadata": {},
   "source": [
    "**9. ¿Cuál es el mes con la mayor cantidad de vuelos con retraso en la llegada?**"
   ]
  },
  {
   "cell_type": "code",
   "execution_count": 84,
   "id": "603eade9-7e14-4ef8-916a-451bd4c0bb29",
   "metadata": {
    "tags": []
   },
   "outputs": [
    {
     "name": "stdout",
     "output_type": "stream",
     "text": [
      "El mes con la mayor cantidad de vuelos con retraso en la llegada es: 12.0\n"
     ]
    }
   ],
   "source": [
    "mes_con_mayor_retraso_llegada = df[df['arr_delay'] > 0]['month'].value_counts().idxmax()\n",
    "print(\"El mes con la mayor cantidad de vuelos con retraso en la llegada es:\", mes_con_mayor_retraso_llegada)\n"
   ]
  },
  {
   "cell_type": "markdown",
   "id": "fd37bae0-e62d-413f-ba52-c1704c43dea3",
   "metadata": {},
   "source": [
    "**10. ¿Cuál es la temperatura promedio en los vuelos con un retraso en la llegada superior a 30 minutos?**"
   ]
  },
  {
   "cell_type": "code",
   "execution_count": 82,
   "id": "e81f0fee-e90f-4327-9250-15b10c92bf8b",
   "metadata": {
    "tags": []
   },
   "outputs": [
    {
     "name": "stdout",
     "output_type": "stream",
     "text": [
      "Temperatura promedio en los vuelos con retraso en la llegada superior a 30 minutos: 58.772474339460636\n"
     ]
    }
   ],
   "source": [
    "temperatura_promedio_retraso_llegada_30min = df[df['arr_delay'] > 30]['temp'].mean()\n",
    "print(\"Temperatura promedio en los vuelos con retraso en la llegada superior a 30 minutos:\", temperatura_promedio_retraso_llegada_30min)\n"
   ]
  },
  {
   "cell_type": "markdown",
   "id": "7b893f11-90b2-45e0-879a-9368ae0c04bb",
   "metadata": {},
   "source": [
    "# ETL y Analytics"
   ]
  },
  {
   "cell_type": "markdown",
   "id": "ceb153fa-d8f9-4f78-bd0f-c74ee970eec0",
   "metadata": {},
   "source": [
    "**1. ¿En que país y que avión se encuentra entre el 85% y el 70% de la cantidad de aterrizajes? Proporcione el nombre del país y el nombre del avión.**"
   ]
  },
  {
   "cell_type": "markdown",
   "id": "8c20348d-79f6-4884-9a5b-7b77d1bf201f",
   "metadata": {},
   "source": [
    "**Aviones**"
   ]
  },
  {
   "cell_type": "code",
   "execution_count": 85,
   "id": "f6daf8a6-7999-42b5-bda6-6efc108a55e8",
   "metadata": {
    "tags": []
   },
   "outputs": [
    {
     "name": "stdout",
     "output_type": "stream",
     "text": [
      "Avión(es) que se encuentra(n) entre el 70% y el 85% de la cantidad de aterrizajes: N793JB, N657JB, N708JB, N644JB, N9EAMQ, N635JB, N13553, N709JB, N646JB, N779JB, N651JB, N563JB, N625JB, N624JB, N645JB, N510UA, N273JB, N570JB, N14542, N527JB, N521JB, N564JB, N203JB, N580JB, N775JB, N534JB, N503JB, N579JB, N615JB, N806JB, N306JB, N12567, N565JB, N13955, N520JB, N951UW, N320NB, N652JB, N29917, N11536, N13978, N612JB, N239JB, N517MQ, N14916, N14543, N957UW, N13538, N537JB, N14558, N636JB, N13958, N502UA, N13908, N920XJ, N13914, N512UA, N504JB, N231JB, N913XJ, N13975, N316JB, N712JB, N14959, N22909, N507MQ, N27962, N507JB, N557UA, N16911, N329JB, N661JB, N658JB, N663JB, N504MQ, N906XJ, N908XJ, N505JB, N727TW, N559JB, N925XJ, N905XJ, N632JB, N640JB, N602LR, N916XJ, N536JB, N535JB, N14953, N924XJ, N307JB, N284JB, N547JB, N531JB, N639JB, N591JB, N588JB, N637JB, N505UA, N629JB, N807JB, N12996, N766JB, N656JB, N945UW, N583JB, N703JB, N586JB, N336NB, N26549, N11547, N14993, N655JB, N546MQ, N16919, N502MQ, N14920, N11548, N524JB, N516MQ, N13968, N535MQ, N600LR, N519JB, N15910, N597JB, N13550, N809JB, N717TW, N729JB, N662JB, N605LR, N919XJ, N506MQ, N759EV, N763JB, N526JB, N952UW, N14977, N914XJ, N768JB, N14952, N12564, N5PBMQ, N13965, N648JB, N16918, N14991, N517JB, N917XJ, N13994, N928XJ, N634JB, N659JB, N26545, N14570, N921XJ, N14568, N13956, N13913, N15983, N643JB, N14907, N571JB, N16541, N519MQ, N649JB, N566JB, N544MQ, N947UW, N753EV, N14904, N12921, N501MQ, N605JB, N3AEMQ, N936XJ, N13979, N16571, N623JB, N715JB, N13992, N926XJ, N946UW, N16981, N514MQ, N560UA, N355JB, N358JB\n"
     ]
    }
   ],
   "source": [
    "# Calcular la suma acumulada de la cantidad de aterrizajes ordenando de menor a mayor\n",
    "flights_sorted = df.groupby('tailnum').size().sort_values()\n",
    "cumulative_sum = flights_sorted.cumsum()\n",
    "\n",
    "# Calcular el total de aterrizajes\n",
    "total_landings = cumulative_sum.max()\n",
    "\n",
    "# Obtener el 70% y el 85% de la suma acumulada\n",
    "seventy_percent = total_landings * 0.7\n",
    "eighty_five_percent = total_landings * 0.85\n",
    "\n",
    "# Encontrar los destinos que se encuentran entre el 70% y el 85% de la suma acumulada\n",
    "dest_within_range = cumulative_sum[(cumulative_sum >= seventy_percent) & (cumulative_sum <= eighty_five_percent)]\n",
    "\n",
    "# Obtener los aviones asociados a estos destinos\n",
    "countries_within_range = df.loc[df['tailnum'].isin(dest_within_range.index), 'tailnum'].unique()\n",
    "\n",
    "\n",
    "# Imprimir el resultado\n",
    "print(f\"Avión(es) que se encuentra(n) entre el 70% y el 85% de la cantidad de aterrizajes: {', '.join(countries_within_range)}\")\n"
   ]
  },
  {
   "cell_type": "code",
   "execution_count": 86,
   "id": "41122cf8-7406-4ac5-abd0-d7f620da806a",
   "metadata": {
    "tags": []
   },
   "outputs": [
    {
     "name": "stdout",
     "output_type": "stream",
     "text": [
      "Cantidad de aviones dentro del rango: 189\n",
      "[]\n"
     ]
    }
   ],
   "source": [
    "df_filtered = df[df['dest'].isin(countries_within_range)]\n",
    "\n",
    "# Mostrar la cantidad de países dentro del rango\n",
    "print(\"Cantidad de aviones dentro del rango:\", len(countries_within_range))\n",
    "\n",
    "# Mostrar los aviones que están en el rango\n",
    "print(df_filtered['tailnum'].unique())\n"
   ]
  },
  {
   "cell_type": "markdown",
   "id": "d368244a-1f0a-4148-a25b-56cd1cbe98f3",
   "metadata": {},
   "source": [
    "**Paises**"
   ]
  },
  {
   "cell_type": "code",
   "execution_count": 39,
   "id": "e5062d70-ee3a-460f-852c-54d0a372b033",
   "metadata": {
    "tags": []
   },
   "outputs": [
    {
     "name": "stdout",
     "output_type": "stream",
     "text": [
      "País(es) que se encuentra(n) entre el 70% y el 85% de la cantidad de aterrizajes: MCO, SFO, BOS, CLT\n"
     ]
    }
   ],
   "source": [
    "# Calcular la suma acumulada de la cantidad de aterrizajes ordenando de menor a mayor\n",
    "flights_sorted = df.groupby('dest').size().sort_values()\n",
    "cumulative_sum = flights_sorted.cumsum()\n",
    "\n",
    "# Calcular el total de aterrizajes\n",
    "total_landings = cumulative_sum.max()\n",
    "\n",
    "# Obtener el 70% y el 85% de la suma acumulada\n",
    "seventy_percent = total_landings * 0.7\n",
    "eighty_five_percent = total_landings * 0.85\n",
    "\n",
    "# Encontrar los destinos que se encuentran entre el 70% y el 85% de la suma acumulada\n",
    "dest_within_range = cumulative_sum[(cumulative_sum >= seventy_percent) & (cumulative_sum <= eighty_five_percent)]\n",
    "\n",
    "# Obtener los países asociados a estos destinos\n",
    "countries_within_range = df.loc[df['dest'].isin(dest_within_range.index), 'dest'].unique()\n",
    "\n",
    "# Filtrar nuevamente el DataFrame por los países dentro del rango\n",
    "df_filtered = df[df['dest'].isin(countries_within_range)]\n",
    "\n",
    "\n",
    "# Imprimir el resultado\n",
    "print(f\"País(es) que se encuentra(n) entre el 70% y el 85% de la cantidad de aterrizajes: {', '.join(countries_within_range)}\")\n"
   ]
  },
  {
   "cell_type": "markdown",
   "id": "2fe932e7-fd81-43ea-87aa-be7f3e90d975",
   "metadata": {},
   "source": [
    "**2. ¿Indique cual es el areopuerto con la temparatura más alta registrada en los datos?**"
   ]
  },
  {
   "cell_type": "code",
   "execution_count": 48,
   "id": "af94f951-3e92-445c-af66-faf9996272d7",
   "metadata": {
    "tags": []
   },
   "outputs": [
    {
     "name": "stdout",
     "output_type": "stream",
     "text": [
      "Aeropuerto con la temperatura más alta: EWR - Newark Liberty Intl\n"
     ]
    }
   ],
   "source": [
    "aeropuerto_mas_caluroso = df.groupby(['origin', 'name_y']).agg({'temp': 'max'}).idxmax()\n",
    "\n",
    "# Extrae el índice del aeropuerto con la temperatura más alta\n",
    "indice_aeropuerto_mas_caluroso = aeropuerto_mas_caluroso['temp']\n",
    "\n",
    "# Convierte el índice a una cadena de texto\n",
    "indice_aeropuerto_mas_caluroso_str = ' - '.join(map(str, indice_aeropuerto_mas_caluroso))\n",
    "\n",
    "print(\"Aeropuerto con la temperatura más alta:\", indice_aeropuerto_mas_caluroso_str)"
   ]
  },
  {
   "cell_type": "markdown",
   "id": "4b949908-50f3-4a16-a858-49f22b88f184",
   "metadata": {},
   "source": [
    "**3. ¿Cuál es la áreaolinea con la menor cantidad de vuelos registrados, indique cuantos vuelos, el código de la áreaolinea, el nombre completo?**"
   ]
  },
  {
   "cell_type": "code",
   "execution_count": 49,
   "id": "841fd840-ce15-476d-a6f7-cb03e287b76f",
   "metadata": {
    "tags": []
   },
   "outputs": [
    {
     "name": "stdout",
     "output_type": "stream",
     "text": [
      "La aerolínea con la menor cantidad de vuelos registrados es:\n",
      "Nombre completo: SkyWest Airlines Inc.\n",
      "Código de aerolínea: OO\n",
      "Cantidad de vuelos registrados: 32\n"
     ]
    }
   ],
   "source": [
    "# Calcular el número de vuelos por aerolínea\n",
    "flight_counts = df['carrier'].value_counts()\n",
    "\n",
    "# Encontrar la aerolínea con la menor cantidad de vuelos registrados\n",
    "min_flight_count = flight_counts.min()\n",
    "min_carrier_code = flight_counts.idxmin()  # Código de la aerolínea\n",
    "min_carrier_name = df.loc[df['carrier'] == min_carrier_code, 'name_x'].iloc[0]  # Nombre completo de la aerolínea\n",
    "\n",
    "# Imprimir los resultados\n",
    "print(\"La aerolínea con la menor cantidad de vuelos registrados es:\")\n",
    "print(\"Nombre completo:\", min_carrier_name)\n",
    "print(\"Código de aerolínea:\", min_carrier_code)\n",
    "print(\"Cantidad de vuelos registrados:\", min_flight_count)\n"
   ]
  },
  {
   "cell_type": "markdown",
   "id": "02a28c7f-ad73-45f9-9ef2-9f26f128df90",
   "metadata": {},
   "source": [
    "**4. Indique la media, mediana, mínimo, máximo y desviación estándar de las millas recorridas por cada avión, debe mostrar el nombre del avión y la información estadística en columnas adicionales.**"
   ]
  },
  {
   "cell_type": "code",
   "execution_count": 52,
   "id": "d778729b-f036-409a-acf3-b054f9dc9050",
   "metadata": {
    "tags": []
   },
   "outputs": [
    {
     "data": {
      "text/html": [
       "<div>\n",
       "<style scoped>\n",
       "    .dataframe tbody tr th:only-of-type {\n",
       "        vertical-align: middle;\n",
       "    }\n",
       "\n",
       "    .dataframe tbody tr th {\n",
       "        vertical-align: top;\n",
       "    }\n",
       "\n",
       "    .dataframe thead th {\n",
       "        text-align: right;\n",
       "    }\n",
       "</style>\n",
       "<table border=\"1\" class=\"dataframe\">\n",
       "  <thead>\n",
       "    <tr style=\"text-align: right;\">\n",
       "      <th></th>\n",
       "      <th>count</th>\n",
       "      <th>Media</th>\n",
       "      <th>Desviación Estándar</th>\n",
       "      <th>Mínimo</th>\n",
       "      <th>25%</th>\n",
       "      <th>Mediana</th>\n",
       "      <th>75%</th>\n",
       "      <th>Máximo</th>\n",
       "    </tr>\n",
       "    <tr>\n",
       "      <th>tailnum</th>\n",
       "      <th></th>\n",
       "      <th></th>\n",
       "      <th></th>\n",
       "      <th></th>\n",
       "      <th></th>\n",
       "      <th></th>\n",
       "      <th></th>\n",
       "      <th></th>\n",
       "    </tr>\n",
       "  </thead>\n",
       "  <tbody>\n",
       "    <tr>\n",
       "      <th>D942DN</th>\n",
       "      <td>4.0</td>\n",
       "      <td>854.500000</td>\n",
       "      <td>106.837883</td>\n",
       "      <td>762.0</td>\n",
       "      <td>762.0</td>\n",
       "      <td>853.0</td>\n",
       "      <td>945.5</td>\n",
       "      <td>950.0</td>\n",
       "    </tr>\n",
       "    <tr>\n",
       "      <th>N0EGMQ</th>\n",
       "      <td>371.0</td>\n",
       "      <td>676.188679</td>\n",
       "      <td>199.956176</td>\n",
       "      <td>213.0</td>\n",
       "      <td>502.0</td>\n",
       "      <td>719.0</td>\n",
       "      <td>764.0</td>\n",
       "      <td>1147.0</td>\n",
       "    </tr>\n",
       "    <tr>\n",
       "      <th>N10156</th>\n",
       "      <td>153.0</td>\n",
       "      <td>757.947712</td>\n",
       "      <td>332.057299</td>\n",
       "      <td>116.0</td>\n",
       "      <td>529.0</td>\n",
       "      <td>746.0</td>\n",
       "      <td>1092.0</td>\n",
       "      <td>1325.0</td>\n",
       "    </tr>\n",
       "    <tr>\n",
       "      <th>N102UW</th>\n",
       "      <td>48.0</td>\n",
       "      <td>535.875000</td>\n",
       "      <td>6.749704</td>\n",
       "      <td>529.0</td>\n",
       "      <td>529.0</td>\n",
       "      <td>541.0</td>\n",
       "      <td>541.0</td>\n",
       "      <td>544.0</td>\n",
       "    </tr>\n",
       "    <tr>\n",
       "      <th>N103US</th>\n",
       "      <td>46.0</td>\n",
       "      <td>535.195652</td>\n",
       "      <td>6.615200</td>\n",
       "      <td>529.0</td>\n",
       "      <td>529.0</td>\n",
       "      <td>529.0</td>\n",
       "      <td>541.0</td>\n",
       "      <td>544.0</td>\n",
       "    </tr>\n",
       "    <tr>\n",
       "      <th>...</th>\n",
       "      <td>...</td>\n",
       "      <td>...</td>\n",
       "      <td>...</td>\n",
       "      <td>...</td>\n",
       "      <td>...</td>\n",
       "      <td>...</td>\n",
       "      <td>...</td>\n",
       "      <td>...</td>\n",
       "    </tr>\n",
       "    <tr>\n",
       "      <th>N998AT</th>\n",
       "      <td>26.0</td>\n",
       "      <td>593.538462</td>\n",
       "      <td>185.562762</td>\n",
       "      <td>397.0</td>\n",
       "      <td>397.0</td>\n",
       "      <td>762.0</td>\n",
       "      <td>762.0</td>\n",
       "      <td>762.0</td>\n",
       "    </tr>\n",
       "    <tr>\n",
       "      <th>N998DL</th>\n",
       "      <td>77.0</td>\n",
       "      <td>857.818182</td>\n",
       "      <td>233.728797</td>\n",
       "      <td>187.0</td>\n",
       "      <td>762.0</td>\n",
       "      <td>950.0</td>\n",
       "      <td>1020.0</td>\n",
       "      <td>1096.0</td>\n",
       "    </tr>\n",
       "    <tr>\n",
       "      <th>N999DN</th>\n",
       "      <td>61.0</td>\n",
       "      <td>895.459016</td>\n",
       "      <td>242.964028</td>\n",
       "      <td>187.0</td>\n",
       "      <td>762.0</td>\n",
       "      <td>1020.0</td>\n",
       "      <td>1076.0</td>\n",
       "      <td>1096.0</td>\n",
       "    </tr>\n",
       "    <tr>\n",
       "      <th>N9EAMQ</th>\n",
       "      <td>248.0</td>\n",
       "      <td>674.665323</td>\n",
       "      <td>183.691490</td>\n",
       "      <td>213.0</td>\n",
       "      <td>544.0</td>\n",
       "      <td>719.0</td>\n",
       "      <td>762.0</td>\n",
       "      <td>1020.0</td>\n",
       "    </tr>\n",
       "    <tr>\n",
       "      <th>NA</th>\n",
       "      <td>2512.0</td>\n",
       "      <td>710.257564</td>\n",
       "      <td>633.607479</td>\n",
       "      <td>17.0</td>\n",
       "      <td>214.0</td>\n",
       "      <td>544.0</td>\n",
       "      <td>937.0</td>\n",
       "      <td>4963.0</td>\n",
       "    </tr>\n",
       "  </tbody>\n",
       "</table>\n",
       "<p>4044 rows × 8 columns</p>\n",
       "</div>"
      ],
      "text/plain": [
       "          count       Media  Desviación Estándar  Mínimo    25%  Mediana  \\\n",
       "tailnum                                                                    \n",
       "D942DN      4.0  854.500000           106.837883   762.0  762.0    853.0   \n",
       "N0EGMQ    371.0  676.188679           199.956176   213.0  502.0    719.0   \n",
       "N10156    153.0  757.947712           332.057299   116.0  529.0    746.0   \n",
       "N102UW     48.0  535.875000             6.749704   529.0  529.0    541.0   \n",
       "N103US     46.0  535.195652             6.615200   529.0  529.0    529.0   \n",
       "...         ...         ...                  ...     ...    ...      ...   \n",
       "N998AT     26.0  593.538462           185.562762   397.0  397.0    762.0   \n",
       "N998DL     77.0  857.818182           233.728797   187.0  762.0    950.0   \n",
       "N999DN     61.0  895.459016           242.964028   187.0  762.0   1020.0   \n",
       "N9EAMQ    248.0  674.665323           183.691490   213.0  544.0    719.0   \n",
       "NA       2512.0  710.257564           633.607479    17.0  214.0    544.0   \n",
       "\n",
       "            75%  Máximo  \n",
       "tailnum                  \n",
       "D942DN    945.5   950.0  \n",
       "N0EGMQ    764.0  1147.0  \n",
       "N10156   1092.0  1325.0  \n",
       "N102UW    541.0   544.0  \n",
       "N103US    541.0   544.0  \n",
       "...         ...     ...  \n",
       "N998AT    762.0   762.0  \n",
       "N998DL   1020.0  1096.0  \n",
       "N999DN   1076.0  1096.0  \n",
       "N9EAMQ    762.0  1020.0  \n",
       "NA        937.0  4963.0  \n",
       "\n",
       "[4044 rows x 8 columns]"
      ]
     },
     "execution_count": 52,
     "metadata": {},
     "output_type": "execute_result"
    }
   ],
   "source": [
    "df_estadisticos = df.groupby('tailnum')['distance'].describe()\n",
    "\n",
    "# Renombrar las columnas para mayor claridad\n",
    "df_estadisticos.rename(columns={\n",
    "    'mean': 'Media',\n",
    "    '50%': 'Mediana',\n",
    "    'min': 'Mínimo',\n",
    "    'max': 'Máximo',\n",
    "    'std': 'Desviación Estándar'\n",
    "}, inplace=True)\n",
    "\n",
    "# Imprimir el DataFrame con las estadísticas descriptivas\n",
    "df_estadisticos"
   ]
  },
  {
   "cell_type": "markdown",
   "id": "429f35c6-18f7-4bb7-8fa9-563f7d939e27",
   "metadata": {},
   "source": [
    "**5. Muestre un cubo de información incluyendo la información de todas las tablas proporcionadas.**"
   ]
  },
  {
   "cell_type": "markdown",
   "id": "b8eacd51-c215-4025-b627-3270d2bd8f58",
   "metadata": {},
   "source": [
    "\n",
    "**a. Indique la cantidad de filas y columnas.**\n"
   ]
  },
  {
   "cell_type": "code",
   "execution_count": 61,
   "id": "ce2ba1b5-171f-4f8c-bb03-68e23bf93b2f",
   "metadata": {
    "tags": []
   },
   "outputs": [
    {
     "name": "stdout",
     "output_type": "stream",
     "text": [
      "Tabla flights - Filas: 336776 Columnas: 19\n",
      "Tabla airlines - Filas: 16 Columnas: 2\n",
      "Tabla airports - Filas: 1458 Columnas: 8\n",
      "Tabla planes - Filas: 4045 Columnas: 9\n",
      "Tabla weather - Filas: 26220 Columnas: 15\n"
     ]
    }
   ],
   "source": [
    "flights_shape = flights.shape\n",
    "airlines_shape = airlines.shape\n",
    "airports_shape = airports.shape\n",
    "planes_shape = planes.shape\n",
    "weather_shape = weather.shape\n",
    "\n",
    "# Imprimir la cantidad de filas y columnas de cada tabla\n",
    "print(\"Tabla flights - Filas:\", flights_shape[0], \"Columnas:\", flights_shape[1])\n",
    "print(\"Tabla airlines - Filas:\", airlines_shape[0], \"Columnas:\", airlines_shape[1])\n",
    "print(\"Tabla airports - Filas:\", airports_shape[0], \"Columnas:\", airports_shape[1])\n",
    "print(\"Tabla planes - Filas:\", planes_shape[0], \"Columnas:\", planes_shape[1])\n",
    "print(\"Tabla weather - Filas:\", weather_shape[0], \"Columnas:\", weather_shape[1])"
   ]
  },
  {
   "cell_type": "markdown",
   "id": "75aca6b7-044f-469a-b546-abedeca76fcb",
   "metadata": {},
   "source": [
    "**b. Indique cuantas y cuales son las variables categoricas, continuas, discretas y de fecha y hora.**"
   ]
  },
  {
   "cell_type": "markdown",
   "id": "aeaa4246-234a-408c-b958-3b168980d35d",
   "metadata": {},
   "source": [
    "| Categoría             | Variables                                                                                                                                              |\n",
    "|-----------------------|--------------------------------------------------------------------------------------------------------------------------------------------------------|\n",
    "| Variables categóricas | carrier, tailnum, origin, dest, name (nombre completo de la aerolínea), name_y (nombre del aeropuerto)                                                |\n",
    "| Variables continuas   | dep_delay, arr_delay, air_time, distance, lat, lon, alt, speed, temp, dewp, humid, wind_dir, wind_speed, wind_gust, precip, pressure, visib        |\n",
    "| Variables discretas   | year, month, day, dep_time, sched_dep_time, arr_time, sched_arr_time, hour, minute, flight, engines, seats          **c. Muestre una gráfica.**                                     |\n",
    "| Variables de fecha y hora | time_hour (representa la fecha y hora de salida)                                                                                                       |\n"
   ]
  },
  {
   "cell_type": "markdown",
   "id": "76b32e7c-7b4b-41cf-b2ee-ced19ed9a6ef",
   "metadata": {
    "tags": []
   },
   "source": [
    "**c. Muestre una gráfica.**"
   ]
  },
  {
   "cell_type": "markdown",
   "id": "11f3ba37-2daf-4696-bcd8-e857be950d11",
   "metadata": {},
   "source": [
    "**i. de barras para la cantidad de las variables categoricas y discretas.**"
   ]
  },
  {
   "cell_type": "code",
   "execution_count": 89,
   "id": "19ecac77-3437-4614-a342-63b2184d44bc",
   "metadata": {
    "tags": []
   },
   "outputs": [
    {
     "data": {
      "image/png": "[encoded data removed]",
      "text/plain": [
       "<Figure size 1000x600 with 1 Axes>"
      ]
     },
     "metadata": {},
     "output_type": "display_data"
    }
   ],
   "source": [
    "import matplotlib.pyplot as plt\n",
    "import seaborn as sns\n",
    "\n",
    "# Definir las variables categóricas y discretas\n",
    "variables_categoricas = ['carrier', 'tailnum', 'origin', 'dest', 'name_y', 'name_x']\n",
    "variables_discretas = ['year', 'month', 'day', 'dep_time', 'sched_dep_time', 'arr_time', 'sched_arr_time', 'hour', 'minute', 'flight', 'engines', 'seats']\n",
    "\n",
    "# Calcular la cantidad de variables categóricas y discretas\n",
    "cantidad_categoricas = len(variables_categoricas)\n",
    "cantidad_discretas = len(variables_discretas)\n",
    "\n",
    "# Crear la figura y los ejes para la gráfica\n",
    "plt.figure(figsize=(10, 6))\n",
    "\n",
    "# Graficar la cantidad de variables categóricas\n",
    "plt.barh(['Categoricas'], [cantidad_categoricas], color='blue', label='Categoricas')\n",
    "\n",
    "# Graficar la cantidad de variables discretas\n",
    "plt.barh(['Discretas'], [cantidad_discretas], color='orange', label='Discretas')\n",
    "\n",
    "# Añadir etiquetas y título\n",
    "plt.xlabel('Cantidad de Variables')\n",
    "plt.ylabel('Tipo de Variable')\n",
    "plt.title('Cantidad de Variables Categoricas y Discretas')\n",
    "\n",
    "# Mostrar la leyenda\n",
    "plt.legend()\n",
    "\n",
    "plt.show()\n"
   ]
  },
  {
   "cell_type": "markdown",
   "id": "c62bd4dd-c4c7-4d9a-bd6e-7beabdfd3f1c",
   "metadata": {},
   "source": [
    "**ii. De densidad para las variables continuas.**"
   ]
  },
  {
   "cell_type": "code",
   "execution_count": 64,
   "id": "b5560672-7553-480f-8e16-de2fd466eee0",
   "metadata": {
    "tags": []
   },
   "outputs": [
    {
     "data": {
      "image/png": "[encoded data removed]",
      "text/plain": [
       "<Figure size 1200x800 with 1 Axes>"
      ]
     },
     "metadata": {},
     "output_type": "display_data"
    }
   ],
   "source": [
    "# Definir las variables continuas\n",
    "variables_continuas = ['dep_delay', 'arr_delay', 'air_time', 'distance', 'lat', 'lon', 'alt', \n",
    "                      'speed', 'temp', 'dewp', 'humid', 'wind_dir', 'wind_speed', 'wind_gust', \n",
    "                      'precip', 'pressure', 'visib']\n",
    "\n",
    "# Crear la figura y los ejes para la gráfica\n",
    "plt.figure(figsize=(12, 8))\n",
    "\n",
    "# Graficar la densidad de cada variable continua\n",
    "for variable in variables_continuas:\n",
    "    sns.kdeplot(df[variable], label=variable, fill=True)\n",
    "\n",
    "# Añadir etiquetas y título\n",
    "plt.xlabel('Valor')\n",
    "plt.ylabel('Densidad')\n",
    "plt.title('Distribución de Variables Continuas')\n",
    "\n",
    "# Mostrar la leyenda\n",
    "plt.legend()\n",
    "\n",
    "plt.show()\n"
   ]
  },
  {
   "cell_type": "markdown",
   "id": "dcd8dce5-ccbd-4c1e-a35a-9d0a657c1234",
   "metadata": {},
   "source": [
    "**iii. Serie de tiempo con el conteo de apariciones para las de fecha y hora.**"
   ]
  },
  {
   "cell_type": "code",
   "execution_count": 65,
   "id": "f426fad2-4256-474b-9ff8-54ec1325d058",
   "metadata": {
    "tags": []
   },
   "outputs": [
    {
     "data": {
      "image/png": "[encoded data removed]",
      "text/plain": [
       "<Figure size 1200x600 with 1 Axes>"
      ]
     },
     "metadata": {},
     "output_type": "display_data"
    }
   ],
   "source": [
    "# Contar la frecuencia de apariciones para cada fecha y hora\n",
    "conteo_por_hora = df['time_hour'].value_counts().sort_index()\n",
    "\n",
    "# Crear la serie de tiempo\n",
    "plt.figure(figsize=(12, 6))\n",
    "conteo_por_hora.plot()\n",
    "plt.xlabel('Fecha y Hora')\n",
    "plt.ylabel('Cantidad de Apariciones')\n",
    "plt.title('Serie de Tiempo de Apariciones por Hora')\n",
    "plt.show()\n"
   ]
  }
 ],
 "metadata": {
  "kernelspec": {
   "display_name": "Python 3 (ipykernel)",
   "language": "python",
   "name": "python3"
  },
  "language_info": {
   "codemirror_mode": {
    "name": "ipython",
    "version": 3
   },
   "file_extension": ".py",
   "mimetype": "text/x-python",
   "name": "python",
   "nbconvert_exporter": "python",
   "pygments_lexer": "ipython3",
   "version": "3.11.5"
  }
 },
 "nbformat": 4,
 "nbformat_minor": 5
}
