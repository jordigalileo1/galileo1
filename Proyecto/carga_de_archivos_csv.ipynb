{
 "cells": [
  {
   "cell_type": "markdown",
   "id": "c4dbb734-9516-4d79-ab20-929a16b8ad39",
   "metadata": {
    "tags": []
   },
   "source": [
    "# CARGA DE ARCHIVOS CSV. A MI BASE DE DATOS"
   ]
  },
  {
   "cell_type": "code",
   "execution_count": null,
   "id": "6c8d94ef-209f-4b4d-a78f-6249888a8554",
   "metadata": {},
   "outputs": [],
   "source": [
    "import pandas as pd\n",
    "import pymysql\n",
    "\n",
    "# Se crea una funsión para realizar esto repetidas veces.\n",
    "def insertar_datos_desde_csv(archivo_csv, tabla, connection):\n",
    "    df = pd.read_csv(archivo_csv)\n",
    "    \n",
    "    cursor = connection.cursor()\n",
    "    \n",
    "    for index, row in df.iterrows():\n",
    "\n",
    "        campos = ', '.join(row.index.tolist())\n",
    "        valores = ', '.join(['%s'] * len(row))\n",
    "        sql = f\"INSERT INTO {tabla} ({campos}) VALUES ({valores})\"\n",
    "        \n",
    "        cursor.execute(sql, tuple(row))\n",
    "    \n",
    "    connection.commit()\n",
    "    cursor.close()\n",
    "\n",
    "# Se crea la conexión a la base de datos que se cargaran los archivos.\n",
    "\n",
    "connection = pymysql.connect(\n",
    "    host='db-rds-mysql.c9u4gqc8kn9n.us-east-2.rds.amazonaws.com',\n",
    "    user='admin_mysql',\n",
    "    password='*********************',\n",
    "    database='sakila_db',\n",
    "    port=3306\n",
    ")\n",
    "\n",
    "# Se procede con la carga de los archivos.\n",
    "\n",
    "archivos_csv = ['airline.csv', 'airports.csv', 'planes.csv', 'weather.csv', 'flights.csv']\n",
    "tablas = ['airline', 'airports', 'planes', 'weather', 'flights']\n",
    "\n",
    "for archivo_csv, tabla in zip(archivos_csv, tablas):\n",
    "    insertar_datos_desde_csv(archivo_csv, tabla, connection)\n",
    "\n",
    "# Se cierra la conexión, para que la base de datos original no genere problema.\n",
    "\n",
    "connection.close()\n"
   ]
  }
 ],
 "metadata": {
  "kernelspec": {
   "display_name": "Python 3 (ipykernel)",
   "language": "python",
   "name": "python3"
  },
  "language_info": {
   "codemirror_mode": {
    "name": "ipython",
    "version": 3
   },
   "file_extension": ".py",
   "mimetype": "text/x-python",
   "name": "python",
   "nbconvert_exporter": "python",
   "pygments_lexer": "ipython3",
   "version": "3.11.5"
  }
 },
 "nbformat": 4,
 "nbformat_minor": 5
}
